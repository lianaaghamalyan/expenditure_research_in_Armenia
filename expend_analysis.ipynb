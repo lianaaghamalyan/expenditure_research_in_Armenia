{
 "cells": [
  {
   "cell_type": "code",
   "execution_count": 2,
   "id": "aca24bd4-3113-44b5-8bf6-72379ebbdedc",
   "metadata": {},
   "outputs": [],
   "source": [
    "import pandas as pd\n",
    "import numpy as np\n",
    "import seaborn as sns\n",
    "import matplotlib.pyplot as plt\n",
    "from scipy.stats import ttest_1samp\n",
    "import math"
   ]
  },
  {
   "cell_type": "code",
   "execution_count": 3,
   "id": "faaef9cb-65e2-4d8f-a36a-40a0c645f8bf",
   "metadata": {},
   "outputs": [
    {
     "data": {
      "text/html": [
       "<div>\n",
       "<style scoped>\n",
       "    .dataframe tbody tr th:only-of-type {\n",
       "        vertical-align: middle;\n",
       "    }\n",
       "\n",
       "    .dataframe tbody tr th {\n",
       "        vertical-align: top;\n",
       "    }\n",
       "\n",
       "    .dataframe thead th {\n",
       "        text-align: right;\n",
       "    }\n",
       "</style>\n",
       "<table border=\"1\" class=\"dataframe\">\n",
       "  <thead>\n",
       "    <tr style=\"text-align: right;\">\n",
       "      <th></th>\n",
       "      <th>interview__key</th>\n",
       "      <th>date_q</th>\n",
       "      <th>hh_02</th>\n",
       "      <th>settlement</th>\n",
       "      <th>members</th>\n",
       "      <th>memnal</th>\n",
       "      <th>weight</th>\n",
       "      <th>fdpurch</th>\n",
       "      <th>fdcons</th>\n",
       "      <th>fdout</th>\n",
       "      <th>...</th>\n",
       "      <th>hous_29_0__3</th>\n",
       "      <th>hous_29_0__4</th>\n",
       "      <th>hous_29_0__5</th>\n",
       "      <th>hous_29_0__6</th>\n",
       "      <th>hous_29_0__7</th>\n",
       "      <th>hous_39</th>\n",
       "      <th>hous_44</th>\n",
       "      <th>soc_01</th>\n",
       "      <th>soc_05</th>\n",
       "      <th>hous_47</th>\n",
       "    </tr>\n",
       "  </thead>\n",
       "  <tbody>\n",
       "    <tr>\n",
       "      <th>0</th>\n",
       "      <td>00-00-85-41</td>\n",
       "      <td>2022.04</td>\n",
       "      <td>1</td>\n",
       "      <td>1</td>\n",
       "      <td>1</td>\n",
       "      <td>1</td>\n",
       "      <td>294.30</td>\n",
       "      <td>52468.75</td>\n",
       "      <td>0.00</td>\n",
       "      <td>0.00</td>\n",
       "      <td>...</td>\n",
       "      <td>1</td>\n",
       "      <td>-999999999</td>\n",
       "      <td>-999999999</td>\n",
       "      <td>-999999999</td>\n",
       "      <td>-999999999</td>\n",
       "      <td>1</td>\n",
       "      <td>3</td>\n",
       "      <td>2</td>\n",
       "      <td>NaN</td>\n",
       "      <td>1.00</td>\n",
       "    </tr>\n",
       "    <tr>\n",
       "      <th>1</th>\n",
       "      <td>00-03-45-50</td>\n",
       "      <td>2022.08</td>\n",
       "      <td>10</td>\n",
       "      <td>2</td>\n",
       "      <td>4</td>\n",
       "      <td>4</td>\n",
       "      <td>40.75</td>\n",
       "      <td>36217.56</td>\n",
       "      <td>38990.90</td>\n",
       "      <td>0.00</td>\n",
       "      <td>...</td>\n",
       "      <td>0</td>\n",
       "      <td>0</td>\n",
       "      <td>0</td>\n",
       "      <td>1</td>\n",
       "      <td>0</td>\n",
       "      <td>1</td>\n",
       "      <td>3</td>\n",
       "      <td>2</td>\n",
       "      <td>NaN</td>\n",
       "      <td>1.00</td>\n",
       "    </tr>\n",
       "    <tr>\n",
       "      <th>2</th>\n",
       "      <td>00-09-00-97</td>\n",
       "      <td>2022.04</td>\n",
       "      <td>4</td>\n",
       "      <td>2</td>\n",
       "      <td>4</td>\n",
       "      <td>4</td>\n",
       "      <td>192.16</td>\n",
       "      <td>19879.46</td>\n",
       "      <td>8436.28</td>\n",
       "      <td>0.00</td>\n",
       "      <td>...</td>\n",
       "      <td>0</td>\n",
       "      <td>0</td>\n",
       "      <td>0</td>\n",
       "      <td>0</td>\n",
       "      <td>0</td>\n",
       "      <td>2</td>\n",
       "      <td>4</td>\n",
       "      <td>2</td>\n",
       "      <td>NaN</td>\n",
       "      <td>1.00</td>\n",
       "    </tr>\n",
       "    <tr>\n",
       "      <th>3</th>\n",
       "      <td>00-10-35-11</td>\n",
       "      <td>2022.09</td>\n",
       "      <td>4</td>\n",
       "      <td>1</td>\n",
       "      <td>3</td>\n",
       "      <td>3</td>\n",
       "      <td>109.82</td>\n",
       "      <td>84514.88</td>\n",
       "      <td>499.84</td>\n",
       "      <td>0.00</td>\n",
       "      <td>...</td>\n",
       "      <td>1</td>\n",
       "      <td>0</td>\n",
       "      <td>0</td>\n",
       "      <td>0</td>\n",
       "      <td>0</td>\n",
       "      <td>1</td>\n",
       "      <td>2</td>\n",
       "      <td>2</td>\n",
       "      <td>NaN</td>\n",
       "      <td>1.00</td>\n",
       "    </tr>\n",
       "    <tr>\n",
       "      <th>4</th>\n",
       "      <td>00-11-16-10</td>\n",
       "      <td>2022.03</td>\n",
       "      <td>4</td>\n",
       "      <td>1</td>\n",
       "      <td>6</td>\n",
       "      <td>6</td>\n",
       "      <td>109.82</td>\n",
       "      <td>64809.23</td>\n",
       "      <td>0.00</td>\n",
       "      <td>0.00</td>\n",
       "      <td>...</td>\n",
       "      <td>0</td>\n",
       "      <td>0</td>\n",
       "      <td>0</td>\n",
       "      <td>1</td>\n",
       "      <td>0</td>\n",
       "      <td>1</td>\n",
       "      <td>4</td>\n",
       "      <td>2</td>\n",
       "      <td>NaN</td>\n",
       "      <td>NaN</td>\n",
       "    </tr>\n",
       "    <tr>\n",
       "      <th>...</th>\n",
       "      <td>...</td>\n",
       "      <td>...</td>\n",
       "      <td>...</td>\n",
       "      <td>...</td>\n",
       "      <td>...</td>\n",
       "      <td>...</td>\n",
       "      <td>...</td>\n",
       "      <td>...</td>\n",
       "      <td>...</td>\n",
       "      <td>...</td>\n",
       "      <td>...</td>\n",
       "      <td>...</td>\n",
       "      <td>...</td>\n",
       "      <td>...</td>\n",
       "      <td>...</td>\n",
       "      <td>...</td>\n",
       "      <td>...</td>\n",
       "      <td>...</td>\n",
       "      <td>...</td>\n",
       "      <td>...</td>\n",
       "      <td>...</td>\n",
       "    </tr>\n",
       "    <tr>\n",
       "      <th>5179</th>\n",
       "      <td>99-96-72-90</td>\n",
       "      <td>2022.06</td>\n",
       "      <td>1</td>\n",
       "      <td>1</td>\n",
       "      <td>3</td>\n",
       "      <td>3</td>\n",
       "      <td>317.29</td>\n",
       "      <td>86318.15</td>\n",
       "      <td>3559.20</td>\n",
       "      <td>0.00</td>\n",
       "      <td>...</td>\n",
       "      <td>1</td>\n",
       "      <td>0</td>\n",
       "      <td>0</td>\n",
       "      <td>0</td>\n",
       "      <td>0</td>\n",
       "      <td>1</td>\n",
       "      <td>3</td>\n",
       "      <td>2</td>\n",
       "      <td>NaN</td>\n",
       "      <td>1.00</td>\n",
       "    </tr>\n",
       "    <tr>\n",
       "      <th>5180</th>\n",
       "      <td>99-96-79-06</td>\n",
       "      <td>2022.10</td>\n",
       "      <td>11</td>\n",
       "      <td>2</td>\n",
       "      <td>5</td>\n",
       "      <td>5</td>\n",
       "      <td>99.80</td>\n",
       "      <td>100461.90</td>\n",
       "      <td>8804.39</td>\n",
       "      <td>6300.60</td>\n",
       "      <td>...</td>\n",
       "      <td>0</td>\n",
       "      <td>0</td>\n",
       "      <td>0</td>\n",
       "      <td>1</td>\n",
       "      <td>0</td>\n",
       "      <td>1</td>\n",
       "      <td>3</td>\n",
       "      <td>1</td>\n",
       "      <td>5.00</td>\n",
       "      <td>1.00</td>\n",
       "    </tr>\n",
       "    <tr>\n",
       "      <th>5181</th>\n",
       "      <td>99-97-55-91</td>\n",
       "      <td>2022.06</td>\n",
       "      <td>3</td>\n",
       "      <td>1</td>\n",
       "      <td>5</td>\n",
       "      <td>1</td>\n",
       "      <td>91.06</td>\n",
       "      <td>27248.26</td>\n",
       "      <td>4706.84</td>\n",
       "      <td>0.00</td>\n",
       "      <td>...</td>\n",
       "      <td>1</td>\n",
       "      <td>0</td>\n",
       "      <td>0</td>\n",
       "      <td>0</td>\n",
       "      <td>0</td>\n",
       "      <td>1</td>\n",
       "      <td>3</td>\n",
       "      <td>2</td>\n",
       "      <td>NaN</td>\n",
       "      <td>1.00</td>\n",
       "    </tr>\n",
       "    <tr>\n",
       "      <th>5182</th>\n",
       "      <td>99-98-03-60</td>\n",
       "      <td>2022.10</td>\n",
       "      <td>1</td>\n",
       "      <td>1</td>\n",
       "      <td>1</td>\n",
       "      <td>1</td>\n",
       "      <td>92.66</td>\n",
       "      <td>29330.36</td>\n",
       "      <td>0.00</td>\n",
       "      <td>1738.10</td>\n",
       "      <td>...</td>\n",
       "      <td>1</td>\n",
       "      <td>0</td>\n",
       "      <td>0</td>\n",
       "      <td>0</td>\n",
       "      <td>0</td>\n",
       "      <td>1</td>\n",
       "      <td>3</td>\n",
       "      <td>2</td>\n",
       "      <td>NaN</td>\n",
       "      <td>2.00</td>\n",
       "    </tr>\n",
       "    <tr>\n",
       "      <th>5183</th>\n",
       "      <td>99-99-80-13</td>\n",
       "      <td>2022.09</td>\n",
       "      <td>10</td>\n",
       "      <td>2</td>\n",
       "      <td>4</td>\n",
       "      <td>4</td>\n",
       "      <td>40.75</td>\n",
       "      <td>94704.46</td>\n",
       "      <td>23271.19</td>\n",
       "      <td>0.00</td>\n",
       "      <td>...</td>\n",
       "      <td>0</td>\n",
       "      <td>0</td>\n",
       "      <td>0</td>\n",
       "      <td>1</td>\n",
       "      <td>0</td>\n",
       "      <td>1</td>\n",
       "      <td>3</td>\n",
       "      <td>2</td>\n",
       "      <td>NaN</td>\n",
       "      <td>1.00</td>\n",
       "    </tr>\n",
       "  </tbody>\n",
       "</table>\n",
       "<p>5184 rows × 67 columns</p>\n",
       "</div>"
      ],
      "text/plain": [
       "     interview__key  date_q  hh_02  settlement  members  memnal  weight  \\\n",
       "0       00-00-85-41 2022.04      1           1        1       1  294.30   \n",
       "1       00-03-45-50 2022.08     10           2        4       4   40.75   \n",
       "2       00-09-00-97 2022.04      4           2        4       4  192.16   \n",
       "3       00-10-35-11 2022.09      4           1        3       3  109.82   \n",
       "4       00-11-16-10 2022.03      4           1        6       6  109.82   \n",
       "...             ...     ...    ...         ...      ...     ...     ...   \n",
       "5179    99-96-72-90 2022.06      1           1        3       3  317.29   \n",
       "5180    99-96-79-06 2022.10     11           2        5       5   99.80   \n",
       "5181    99-97-55-91 2022.06      3           1        5       1   91.06   \n",
       "5182    99-98-03-60 2022.10      1           1        1       1   92.66   \n",
       "5183    99-99-80-13 2022.09     10           2        4       4   40.75   \n",
       "\n",
       "       fdpurch   fdcons   fdout  ...  hous_29_0__3  hous_29_0__4  \\\n",
       "0     52468.75     0.00    0.00  ...             1    -999999999   \n",
       "1     36217.56 38990.90    0.00  ...             0             0   \n",
       "2     19879.46  8436.28    0.00  ...             0             0   \n",
       "3     84514.88   499.84    0.00  ...             1             0   \n",
       "4     64809.23     0.00    0.00  ...             0             0   \n",
       "...        ...      ...     ...  ...           ...           ...   \n",
       "5179  86318.15  3559.20    0.00  ...             1             0   \n",
       "5180 100461.90  8804.39 6300.60  ...             0             0   \n",
       "5181  27248.26  4706.84    0.00  ...             1             0   \n",
       "5182  29330.36     0.00 1738.10  ...             1             0   \n",
       "5183  94704.46 23271.19    0.00  ...             0             0   \n",
       "\n",
       "      hous_29_0__5  hous_29_0__6  hous_29_0__7  hous_39  hous_44  soc_01  \\\n",
       "0       -999999999    -999999999    -999999999        1        3       2   \n",
       "1                0             1             0        1        3       2   \n",
       "2                0             0             0        2        4       2   \n",
       "3                0             0             0        1        2       2   \n",
       "4                0             1             0        1        4       2   \n",
       "...            ...           ...           ...      ...      ...     ...   \n",
       "5179             0             0             0        1        3       2   \n",
       "5180             0             1             0        1        3       1   \n",
       "5181             0             0             0        1        3       2   \n",
       "5182             0             0             0        1        3       2   \n",
       "5183             0             1             0        1        3       2   \n",
       "\n",
       "      soc_05  hous_47  \n",
       "0        NaN     1.00  \n",
       "1        NaN     1.00  \n",
       "2        NaN     1.00  \n",
       "3        NaN     1.00  \n",
       "4        NaN      NaN  \n",
       "...      ...      ...  \n",
       "5179     NaN     1.00  \n",
       "5180    5.00     1.00  \n",
       "5181     NaN     1.00  \n",
       "5182     NaN     2.00  \n",
       "5183     NaN     1.00  \n",
       "\n",
       "[5184 rows x 67 columns]"
      ]
     },
     "execution_count": 3,
     "metadata": {},
     "output_type": "execute_result"
    }
   ],
   "source": [
    "pd.set_option('display.float_format', '{:.2f}'.format)\n",
    "data = pd.read_excel('99543018.xlsx', sheet_name='2022')\n",
    "data"
   ]
  },
  {
   "cell_type": "code",
   "execution_count": 4,
   "id": "7d328086-d1ee-4331-b6e1-7a585f9cc261",
   "metadata": {},
   "outputs": [
    {
     "data": {
      "text/html": [
       "<div>\n",
       "<style scoped>\n",
       "    .dataframe tbody tr th:only-of-type {\n",
       "        vertical-align: middle;\n",
       "    }\n",
       "\n",
       "    .dataframe tbody tr th {\n",
       "        vertical-align: top;\n",
       "    }\n",
       "\n",
       "    .dataframe thead th {\n",
       "        text-align: right;\n",
       "    }\n",
       "</style>\n",
       "<table border=\"1\" class=\"dataframe\">\n",
       "  <thead>\n",
       "    <tr style=\"text-align: right;\">\n",
       "      <th></th>\n",
       "      <th>Variable</th>\n",
       "      <th>Label</th>\n",
       "      <th>Unnamed: 2</th>\n",
       "      <th>Unnamed: 3</th>\n",
       "      <th>Unnamed: 4</th>\n",
       "      <th>Variable Values</th>\n",
       "      <th>Unnamed: 6</th>\n",
       "      <th>Unnamed: 7</th>\n",
       "    </tr>\n",
       "  </thead>\n",
       "  <tbody>\n",
       "    <tr>\n",
       "      <th>0</th>\n",
       "      <td>interview__key</td>\n",
       "      <td>Special relation record number of hh</td>\n",
       "      <td>NaN</td>\n",
       "      <td>NaN</td>\n",
       "      <td>NaN</td>\n",
       "      <td>Value</td>\n",
       "      <td>NaN</td>\n",
       "      <td>Label</td>\n",
       "    </tr>\n",
       "    <tr>\n",
       "      <th>1</th>\n",
       "      <td>date_q</td>\n",
       "      <td>Date of Survey</td>\n",
       "      <td>NaN</td>\n",
       "      <td>NaN</td>\n",
       "      <td>NaN</td>\n",
       "      <td>hh_02</td>\n",
       "      <td>-999999999.00</td>\n",
       "      <td>missing</td>\n",
       "    </tr>\n",
       "    <tr>\n",
       "      <th>2</th>\n",
       "      <td>hh_02</td>\n",
       "      <td>Code of marz</td>\n",
       "      <td>NaN</td>\n",
       "      <td>NaN</td>\n",
       "      <td>NaN</td>\n",
       "      <td>NaN</td>\n",
       "      <td>1.00</td>\n",
       "      <td>YEREVAN</td>\n",
       "    </tr>\n",
       "    <tr>\n",
       "      <th>3</th>\n",
       "      <td>settlement</td>\n",
       "      <td>Type of the area</td>\n",
       "      <td>NaN</td>\n",
       "      <td>NaN</td>\n",
       "      <td>NaN</td>\n",
       "      <td>NaN</td>\n",
       "      <td>2.00</td>\n",
       "      <td>ARAGATSOT</td>\n",
       "    </tr>\n",
       "    <tr>\n",
       "      <th>4</th>\n",
       "      <td>members</td>\n",
       "      <td>Number of the members of the household</td>\n",
       "      <td>NaN</td>\n",
       "      <td>NaN</td>\n",
       "      <td>NaN</td>\n",
       "      <td>NaN</td>\n",
       "      <td>3.00</td>\n",
       "      <td>ARARAT</td>\n",
       "    </tr>\n",
       "    <tr>\n",
       "      <th>...</th>\n",
       "      <td>...</td>\n",
       "      <td>...</td>\n",
       "      <td>...</td>\n",
       "      <td>...</td>\n",
       "      <td>...</td>\n",
       "      <td>...</td>\n",
       "      <td>...</td>\n",
       "      <td>...</td>\n",
       "    </tr>\n",
       "    <tr>\n",
       "      <th>62</th>\n",
       "      <td>hous_39</td>\n",
       "      <td>39. What is the principal method of garbage di...</td>\n",
       "      <td>NaN</td>\n",
       "      <td>NaN</td>\n",
       "      <td>NaN</td>\n",
       "      <td>NaN</td>\n",
       "      <td>2.00</td>\n",
       "      <td>no</td>\n",
       "    </tr>\n",
       "    <tr>\n",
       "      <th>63</th>\n",
       "      <td>hous_44</td>\n",
       "      <td>44. Please evaluate your housing condition</td>\n",
       "      <td>NaN</td>\n",
       "      <td>NaN</td>\n",
       "      <td>NaN</td>\n",
       "      <td>NaN</td>\n",
       "      <td>3.00</td>\n",
       "      <td>dont know</td>\n",
       "    </tr>\n",
       "    <tr>\n",
       "      <th>64</th>\n",
       "      <td>soc_01</td>\n",
       "      <td>1.   Is your family registered in the poverty ...</td>\n",
       "      <td>NaN</td>\n",
       "      <td>NaN</td>\n",
       "      <td>NaN</td>\n",
       "      <td>NaN</td>\n",
       "      <td>NaN</td>\n",
       "      <td>NaN</td>\n",
       "    </tr>\n",
       "    <tr>\n",
       "      <th>65</th>\n",
       "      <td>soc_05</td>\n",
       "      <td>5.   How many years has your family received b...</td>\n",
       "      <td>NaN</td>\n",
       "      <td>NaN</td>\n",
       "      <td>NaN</td>\n",
       "      <td>NaN</td>\n",
       "      <td>NaN</td>\n",
       "      <td>NaN</td>\n",
       "    </tr>\n",
       "    <tr>\n",
       "      <th>66</th>\n",
       "      <td>hous_47</td>\n",
       "      <td>Are you satisfied with health services?</td>\n",
       "      <td>NaN</td>\n",
       "      <td>NaN</td>\n",
       "      <td>NaN</td>\n",
       "      <td>NaN</td>\n",
       "      <td>NaN</td>\n",
       "      <td>NaN</td>\n",
       "    </tr>\n",
       "  </tbody>\n",
       "</table>\n",
       "<p>67 rows × 8 columns</p>\n",
       "</div>"
      ],
      "text/plain": [
       "          Variable                                              Label  \\\n",
       "0   interview__key               Special relation record number of hh   \n",
       "1           date_q                                     Date of Survey   \n",
       "2            hh_02                                       Code of marz   \n",
       "3       settlement                                   Type of the area   \n",
       "4          members             Number of the members of the household   \n",
       "..             ...                                                ...   \n",
       "62         hous_39  39. What is the principal method of garbage di...   \n",
       "63         hous_44         44. Please evaluate your housing condition   \n",
       "64          soc_01  1.   Is your family registered in the poverty ...   \n",
       "65          soc_05  5.   How many years has your family received b...   \n",
       "66         hous_47            Are you satisfied with health services?   \n",
       "\n",
       "    Unnamed: 2  Unnamed: 3  Unnamed: 4 Variable Values    Unnamed: 6  \\\n",
       "0          NaN         NaN         NaN           Value           NaN   \n",
       "1          NaN         NaN         NaN           hh_02 -999999999.00   \n",
       "2          NaN         NaN         NaN             NaN          1.00   \n",
       "3          NaN         NaN         NaN             NaN          2.00   \n",
       "4          NaN         NaN         NaN             NaN          3.00   \n",
       "..         ...         ...         ...             ...           ...   \n",
       "62         NaN         NaN         NaN             NaN          2.00   \n",
       "63         NaN         NaN         NaN             NaN          3.00   \n",
       "64         NaN         NaN         NaN             NaN           NaN   \n",
       "65         NaN         NaN         NaN             NaN           NaN   \n",
       "66         NaN         NaN         NaN             NaN           NaN   \n",
       "\n",
       "   Unnamed: 7  \n",
       "0       Label  \n",
       "1     missing  \n",
       "2     YEREVAN  \n",
       "3   ARAGATSOT  \n",
       "4      ARARAT  \n",
       "..        ...  \n",
       "62         no  \n",
       "63  dont know  \n",
       "64        NaN  \n",
       "65        NaN  \n",
       "66        NaN  \n",
       "\n",
       "[67 rows x 8 columns]"
      ]
     },
     "execution_count": 4,
     "metadata": {},
     "output_type": "execute_result"
    }
   ],
   "source": [
    "labels = pd.read_excel('99543018.xlsx', sheet_name='Labels')\n",
    "labels"
   ]
  },
  {
   "cell_type": "code",
   "execution_count": 5,
   "id": "ce483d5e-0150-4724-a75d-58ef23ca29c6",
   "metadata": {},
   "outputs": [
    {
     "name": "stdout",
     "output_type": "stream",
     "text": [
      "<class 'pandas.core.frame.DataFrame'>\n",
      "RangeIndex: 5184 entries, 0 to 5183\n",
      "Data columns (total 67 columns):\n",
      " #   Column            Non-Null Count  Dtype  \n",
      "---  ------            --------------  -----  \n",
      " 0   interview__key    5184 non-null   object \n",
      " 1   date_q            5184 non-null   float64\n",
      " 2   hh_02             5184 non-null   int64  \n",
      " 3   settlement        5184 non-null   int64  \n",
      " 4   members           5184 non-null   int64  \n",
      " 5   memnal            5184 non-null   int64  \n",
      " 6   weight            5184 non-null   float64\n",
      " 7   fdpurch           5184 non-null   float64\n",
      " 8   fdcons            5184 non-null   float64\n",
      " 9   fdout             5184 non-null   float64\n",
      " 10  Z1                5184 non-null   int64  \n",
      " 11  nfdpurch          5184 non-null   float64\n",
      " 12  nonfdgif          5184 non-null   float64\n",
      " 13  durble            5184 non-null   float64\n",
      " 14  expend            5184 non-null   float64\n",
      " 15  monincome         5184 non-null   float64\n",
      " 16  totincome         5184 non-null   float64\n",
      " 17  nonmoninc         5184 non-null   float64\n",
      " 18  y1_3amd.1.00      3018 non-null   float64\n",
      " 19  y1_3amd.2.00      942 non-null    float64\n",
      " 20  y1_3amd.4.00      3147 non-null   float64\n",
      " 21  y1_3amd.6.00      608 non-null    float64\n",
      " 22  y1_3amd.8.00      62 non-null     float64\n",
      " 23  y1_3amd.9.00      219 non-null    float64\n",
      " 24  y1_3amd.10.00     7 non-null      float64\n",
      " 25  y1_3amd.12.00     19 non-null     float64\n",
      " 26  y1_3amd.13.00     76 non-null     float64\n",
      " 27  y1_3amd.14.00     5 non-null      float64\n",
      " 28  y1_3amd.15.00     29 non-null     float64\n",
      " 29  y1_3amd.17.00     52 non-null     float64\n",
      " 30  y1_3amd.18.00     692 non-null    float64\n",
      " 31  y1_3amd.19.00     711 non-null    float64\n",
      " 32  y1_3amd.23.00     4 non-null      float64\n",
      " 33  y1_3amd.26.00     61 non-null     float64\n",
      " 34  y1_3amd.28.00     45 non-null     float64\n",
      " 35  hhch_0_3_sum      718 non-null    float64\n",
      " 36  hhch_4_5_sum      457 non-null    float64\n",
      " 37  hhch_6_11_sum     1089 non-null   float64\n",
      " 38  hhch_12_17_sum    1035 non-null   float64\n",
      " 39  hheld_63_65_sum   732 non-null    float64\n",
      " 40  hheld_66_70_sum   1035 non-null   float64\n",
      " 41  hheld_71_80_sum   1005 non-null   float64\n",
      " 42  hheld_over81_sum  565 non-null    float64\n",
      " 43  hheld_over63_sum  2810 non-null   float64\n",
      " 44  headsex           5184 non-null   int64  \n",
      " 45  headeduc          4970 non-null   float64\n",
      " 46  headmerstatus     5184 non-null   int64  \n",
      " 47  headage           5184 non-null   int64  \n",
      " 48  aec_r             5184 non-null   float64\n",
      " 49  poverty           5184 non-null   int64  \n",
      " 50  pweight           5184 non-null   float64\n",
      " 51  ae_r              5184 non-null   float64\n",
      " 52  hous_01           5184 non-null   int64  \n",
      " 53  hous_13           5184 non-null   int64  \n",
      " 54  hous_16           4933 non-null   float64\n",
      " 55  hous_29_0__1      5184 non-null   int64  \n",
      " 56  hous_29_0__2      5184 non-null   int64  \n",
      " 57  hous_29_0__3      5184 non-null   int64  \n",
      " 58  hous_29_0__4      5184 non-null   int64  \n",
      " 59  hous_29_0__5      5184 non-null   int64  \n",
      " 60  hous_29_0__6      5184 non-null   int64  \n",
      " 61  hous_29_0__7      5184 non-null   int64  \n",
      " 62  hous_39           5184 non-null   int64  \n",
      " 63  hous_44           5184 non-null   int64  \n",
      " 64  soc_01            5184 non-null   int64  \n",
      " 65  soc_05            578 non-null    float64\n",
      " 66  hous_47           4235 non-null   float64\n",
      "dtypes: float64(45), int64(21), object(1)\n",
      "memory usage: 2.7+ MB\n"
     ]
    }
   ],
   "source": [
    "data.info()"
   ]
  },
  {
   "cell_type": "markdown",
   "id": "00879438-5a3f-46a6-beed-aa1fa34da45c",
   "metadata": {},
   "source": [
    "# Data Transformation"
   ]
  },
  {
   "cell_type": "code",
   "execution_count": 7,
   "id": "9b1d6884-a63e-472b-acc1-b0d1dbe8fb74",
   "metadata": {},
   "outputs": [
    {
     "data": {
      "text/plain": [
       "0    2022-04\n",
       "1    2022-08\n",
       "2    2022-04\n",
       "3    2022-09\n",
       "4    2022-03\n",
       "Name: date_q, dtype: period[M]"
      ]
     },
     "execution_count": 7,
     "metadata": {},
     "output_type": "execute_result"
    }
   ],
   "source": [
    "# date looks like 2022.04 in float, let's change it to datetime\n",
    "data['date_q'] = data['date_q'].astype(str)\n",
    "\n",
    "data['date_q'] = data['date_q'].str.replace('.', '-')\n",
    "\n",
    "data['date_q'] = pd.to_datetime(data['date_q'], format='%Y-%m').dt.to_period('M')\n",
    "\n",
    "data['date_q'].head()"
   ]
  },
  {
   "cell_type": "code",
   "execution_count": 8,
   "id": "23484288-b2bb-48eb-bd5c-2911ac3bc622",
   "metadata": {},
   "outputs": [
    {
     "data": {
      "text/plain": [
       "0     1\n",
       "1    10\n",
       "2     4\n",
       "3     4\n",
       "4     4\n",
       "Name: hh_02, dtype: int64"
      ]
     },
     "execution_count": 8,
     "metadata": {},
     "output_type": "execute_result"
    }
   ],
   "source": [
    "data['hh_02'].head()"
   ]
  },
  {
   "cell_type": "code",
   "execution_count": 9,
   "id": "f00d02f2-96f7-4d9b-8478-ab61087fb794",
   "metadata": {
    "scrolled": true
   },
   "outputs": [
    {
     "name": "stdout",
     "output_type": "stream",
     "text": [
      "0        YEREVAN\n",
      "1    VAYOTS DZOR\n",
      "2        ARMAVIR\n",
      "3        ARMAVIR\n",
      "4        ARMAVIR\n",
      "Name: hh_02, dtype: category\n",
      "Categories (11, object): ['YEREVAN', 'ARAGATSOT', 'ARARAT', 'ARMAVIR', ..., 'SHIRAK', 'SYUNIK', 'VAYOTS DZOR', 'TAVUSH']\n"
     ]
    }
   ],
   "source": [
    "# we have region names for each code, so let's convert codes to region names and convert -999999999 to NaN\n",
    "\n",
    "data.loc[:, 'settlement'] = data['settlement'].replace(-999999999, np.nan)\n",
    "\n",
    "data['hh_02'] = data['hh_02'].astype('category')\n",
    "\n",
    "category_labels = {\n",
    "    1: 'YEREVAN',\n",
    "    2: 'ARAGATSOT',\n",
    "    3: 'ARARAT',\n",
    "    4: 'ARMAVIR',\n",
    "    5: 'GEGHARKUNIK',\n",
    "    6: 'LORI',\n",
    "    7: 'KOTAYK',\n",
    "    8: 'SHIRAK',\n",
    "    9: 'SYUNIK',\n",
    "    10: 'VAYOTS DZOR',\n",
    "    11: 'TAVUSH'\n",
    "}\n",
    "data['hh_02'] = data['hh_02'].cat.rename_categories(category_labels)\n",
    "\n",
    "print(data['hh_02'].head()) "
   ]
  },
  {
   "cell_type": "code",
   "execution_count": 10,
   "id": "402944cb-8324-4ade-a63d-7f7c8eb0eebf",
   "metadata": {},
   "outputs": [],
   "source": [
    "# let's change the column name to region (hh_02 doesn't tell anything)\n",
    "data = data.rename(columns={'hh_02': 'region'})\n",
    "data.loc[:, 'settlement'] = data['settlement'].replace(-999999999, np.nan)"
   ]
  },
  {
   "cell_type": "code",
   "execution_count": 11,
   "id": "60649929-706b-420e-8e4e-0473b11d4521",
   "metadata": {},
   "outputs": [
    {
     "data": {
      "text/plain": [
       "0    1\n",
       "1    2\n",
       "2    2\n",
       "3    1\n",
       "4    1\n",
       "Name: settlement, dtype: int64"
      ]
     },
     "execution_count": 11,
     "metadata": {},
     "output_type": "execute_result"
    }
   ],
   "source": [
    "data['settlement'].head()"
   ]
  },
  {
   "cell_type": "code",
   "execution_count": 12,
   "id": "515b3239-abd9-4f35-aa5e-0c2408354a46",
   "metadata": {},
   "outputs": [
    {
     "data": {
      "text/plain": [
       "0    URBAN\n",
       "1    RURAL\n",
       "2    RURAL\n",
       "3    URBAN\n",
       "4    URBAN\n",
       "Name: settlement, dtype: category\n",
       "Categories (2, object): ['URBAN', 'RURAL']"
      ]
     },
     "execution_count": 12,
     "metadata": {},
     "output_type": "execute_result"
    }
   ],
   "source": [
    "# settlement column should also be categorical\n",
    "\n",
    "data['settlement'] = data['settlement'].replace(-999999999, np.nan)\n",
    "\n",
    "data['settlement'] = data['settlement'].astype('category')\n",
    "\n",
    "settlement_labels = {\n",
    "    1: 'URBAN',\n",
    "    2: 'RURAL'\n",
    "}\n",
    "\n",
    "data['settlement'] = data['settlement'].cat.rename_categories(settlement_labels)\n",
    "\n",
    "data.settlement.head()"
   ]
  },
  {
   "cell_type": "code",
   "execution_count": 13,
   "id": "8aa8044c-93b2-4e4f-b540-71442c01904f",
   "metadata": {},
   "outputs": [
    {
     "name": "stdout",
     "output_type": "stream",
     "text": [
      "[0]\n"
     ]
    }
   ],
   "source": [
    "unique_z1 = data['Z1'].unique()\n",
    "print(unique_z1)"
   ]
  },
  {
   "cell_type": "code",
   "execution_count": 14,
   "id": "b3b41289-e5e2-457f-98b8-893becbc3b84",
   "metadata": {},
   "outputs": [],
   "source": [
    "# let's drop the column as it contains only zeros, no meaningful information\n",
    "\n",
    "data = data.drop(columns=['Z1'])"
   ]
  },
  {
   "cell_type": "code",
   "execution_count": 15,
   "id": "f463e6e1-9273-4e60-ba86-354f703123b8",
   "metadata": {},
   "outputs": [],
   "source": [
    "# assign readable names to columns\n",
    "\n",
    "data.rename(columns={\n",
    "    'fdpurch': 'food_purchase',\n",
    "    'fdcons': 'food_consumption',\n",
    "    'fdout': 'food_out_of_home',\n",
    "    'Z1': 'small_food_purchase',\n",
    "    'nfdpurch': 'non_food_purchase',\n",
    "    'nonfdgif': 'non_food_gift',\n",
    "    'durble': 'durable_goods',\n",
    "    'expend': 'expenditure',\n",
    "    'monincome': 'monetary_income',\n",
    "    'totincome': 'total',\n",
    "    'nonmoninc': 'non_monetary_income'\n",
    "}, inplace=True)"
   ]
  },
  {
   "cell_type": "code",
   "execution_count": 16,
   "id": "616387f2-8cc5-435f-84e5-527f1101069d",
   "metadata": {},
   "outputs": [
    {
     "data": {
      "text/plain": [
       "0    34000.00\n",
       "1   113300.00\n",
       "2   114500.00\n",
       "3   600000.00\n",
       "4   153000.00\n",
       "Name: Total_Income, dtype: float64"
      ]
     },
     "execution_count": 16,
     "metadata": {},
     "output_type": "execute_result"
    }
   ],
   "source": [
    "# as income columns have too many missing values, let's add them all together to have one total income \n",
    "\n",
    "income_columns = [\n",
    "    'y1_3amd.1.00', 'y1_3amd.2.00', 'y1_3amd.4.00', 'y1_3amd.6.00', 'y1_3amd.8.00',\n",
    "    'y1_3amd.9.00', 'y1_3amd.10.00', 'y1_3amd.12.00', 'y1_3amd.13.00', 'y1_3amd.14.00',\n",
    "    'y1_3amd.15.00', 'y1_3amd.17.00', 'y1_3amd.18.00', 'y1_3amd.19.00', 'y1_3amd.23.00',\n",
    "    'y1_3amd.26.00', 'y1_3amd.28.00'\n",
    "]\n",
    "\n",
    "data['Total_Income'] = data[income_columns].sum(axis=1)\n",
    "\n",
    "data['Total_Income'].head()"
   ]
  },
  {
   "cell_type": "code",
   "execution_count": 17,
   "id": "e8f1e68e-4619-4ce1-8c07-a7ef766fb700",
   "metadata": {},
   "outputs": [
    {
     "data": {
      "text/plain": [
       "0"
      ]
     },
     "execution_count": 17,
     "metadata": {},
     "output_type": "execute_result"
    }
   ],
   "source": [
    "data['Total_Income'].isnull().sum()"
   ]
  },
  {
   "cell_type": "code",
   "execution_count": 18,
   "id": "e3aefeca-02db-4169-aa9a-1d55591af3ec",
   "metadata": {},
   "outputs": [],
   "source": [
    "data = data.drop(columns=['y1_3amd.1.00', 'y1_3amd.2.00', 'y1_3amd.4.00', 'y1_3amd.6.00', 'y1_3amd.8.00',\n",
    "    'y1_3amd.9.00', 'y1_3amd.10.00', 'y1_3amd.12.00', 'y1_3amd.13.00', 'y1_3amd.14.00',\n",
    "    'y1_3amd.15.00', 'y1_3amd.17.00', 'y1_3amd.18.00', 'y1_3amd.19.00', 'y1_3amd.23.00',\n",
    "    'y1_3amd.26.00', 'y1_3amd.28.00'])"
   ]
  },
  {
   "cell_type": "code",
   "execution_count": 19,
   "id": "739ba783-6673-40ea-97c5-f8faab04e98d",
   "metadata": {},
   "outputs": [],
   "source": [
    "#let's rename columns to have more readable names\n",
    "\n",
    "data.rename(columns={\n",
    "    'hhch_0_3_sum': 'members_0_3',\n",
    "    'hhch_4_5_sum': 'members_4_5',\n",
    "    'hhch_6_11_sum': 'members_6_11',\n",
    "    'hhch_12_17_sum': 'members_12_17',\n",
    "    'hheld_63_65_sum': 'members_63_65',\n",
    "    'hheld_66_70_sum': 'members_66_70',\n",
    "    'hheld_71_80_sum': 'members_71_80',\n",
    "    'hheld_over81_sum': 'members_over_81',\n",
    "    'hheld_over63_sum': 'members_over_63'\n",
    "}, inplace=True)\n",
    "\n",
    "\n",
    "# converting missing values to 0 in age groups, as each family told the number of people only of the age group they had family member, the other columns stayed empty\n",
    "\n",
    "age_group_columns = ['members_0_3', 'members_4_5', 'members_6_11', \n",
    "                     'members_12_17', 'members_63_65', 'members_66_70', \n",
    "                     'members_71_80', 'members_over_81', 'members_over_63']\n",
    "\n",
    "data[age_group_columns] = data[age_group_columns].fillna(0)\n"
   ]
  },
  {
   "cell_type": "code",
   "execution_count": 20,
   "id": "e0c0eaf7-8cd0-4e0a-a41c-e59c374730b5",
   "metadata": {},
   "outputs": [
    {
     "data": {
      "text/plain": [
       "array([2, 1])"
      ]
     },
     "execution_count": 20,
     "metadata": {},
     "output_type": "execute_result"
    }
   ],
   "source": [
    "unique_sex = data['headsex'].unique()\n",
    "unique_sex"
   ]
  },
  {
   "cell_type": "code",
   "execution_count": 21,
   "id": "c2661844-e992-47df-9e7d-e794669d81ef",
   "metadata": {},
   "outputs": [
    {
     "data": {
      "text/plain": [
       "0    Female\n",
       "1      Male\n",
       "2    Female\n",
       "3      Male\n",
       "4      Male\n",
       "Name: headsex, dtype: category\n",
       "Categories (2, object): ['Female', 'Male']"
      ]
     },
     "execution_count": 21,
     "metadata": {},
     "output_type": "execute_result"
    }
   ],
   "source": [
    "data['headsex'] = data.headsex.replace({1: 'Male', 2: 'Female'})\n",
    "\n",
    "data['headsex'] = data.headsex.astype('category')\n",
    "\n",
    "data.headsex.head()"
   ]
  },
  {
   "cell_type": "code",
   "execution_count": 22,
   "id": "1f351ac1-117e-4512-b3dd-df0aa1ef0379",
   "metadata": {},
   "outputs": [
    {
     "data": {
      "text/plain": [
       "array([ 2.,  5.,  3.,  6.,  7., nan,  4.,  1.,  0.,  8.])"
      ]
     },
     "execution_count": 22,
     "metadata": {},
     "output_type": "execute_result"
    }
   ],
   "source": [
    "unique_educ = data.headeduc.unique()\n",
    "unique_educ"
   ]
  },
  {
   "cell_type": "code",
   "execution_count": 23,
   "id": "ab0d2ee1-8fea-445e-bf8d-605d4efe47ac",
   "metadata": {},
   "outputs": [
    {
     "data": {
      "text/plain": [
       "array([3, 1, 4, 5, 2])"
      ]
     },
     "execution_count": 23,
     "metadata": {},
     "output_type": "execute_result"
    }
   ],
   "source": [
    "unique_marital = data.headmerstatus.unique()\n",
    "unique_marital"
   ]
  },
  {
   "cell_type": "code",
   "execution_count": 24,
   "id": "c984bf83-9317-40fb-acfe-04ce7ed819ba",
   "metadata": {},
   "outputs": [
    {
     "data": {
      "text/plain": [
       "0         No primary, literate\n",
       "1                    Secondary\n",
       "2         No primary, literate\n",
       "3                    Secondary\n",
       "4         No primary, literate\n",
       "                 ...          \n",
       "5179    Preliminary vocational\n",
       "5180                   Primary\n",
       "5181                   Primary\n",
       "5182    Preliminary vocational\n",
       "5183                   Primary\n",
       "Name: headeduc, Length: 5184, dtype: category\n",
       "Categories (10, object): [0.00, 'General (basic)', 'Higher (Bachelor/Master)', 'Middle vocational', ..., 'Preliminary vocational', 'Primary', 'Secondary', 'Unknown']"
      ]
     },
     "execution_count": 24,
     "metadata": {},
     "output_type": "execute_result"
    }
   ],
   "source": [
    "# let's label education levels\n",
    "\n",
    "education_levels = {\n",
    "    1.00: 'No primary, illiterate',\n",
    "    2.00: 'No primary, literate',\n",
    "    3.00: 'Primary',\n",
    "    4.00: 'General (basic)',\n",
    "    5.00: 'Secondary',\n",
    "    6.00: 'Preliminary vocational',\n",
    "    7.00: 'Middle vocational',\n",
    "    8.00: 'Higher (Bachelor/Master)',\n",
    "    9.00: 'Post-graduate',\n",
    "    np.nan: 'Unknown'\n",
    "}\n",
    "\n",
    "data.headeduc = data.headeduc.replace(education_levels)\n",
    "data.headeduc = data.headeduc.astype('category')\n",
    "\n",
    "data.headeduc"
   ]
  },
  {
   "cell_type": "code",
   "execution_count": 25,
   "id": "f05dbfee-70fc-4bdb-8388-ad9c69867fca",
   "metadata": {},
   "outputs": [],
   "source": [
    "data.rename(columns={'headeduc': 'education_level'}, inplace=True)"
   ]
  },
  {
   "cell_type": "code",
   "execution_count": 26,
   "id": "30bfa3a6-1b5c-4daa-86f9-dc62cdb7da86",
   "metadata": {},
   "outputs": [
    {
     "data": {
      "text/plain": [
       "0       Widowed\n",
       "1       Married\n",
       "2       Widowed\n",
       "3       Married\n",
       "4       Married\n",
       "         ...   \n",
       "5179    Married\n",
       "5180    Widowed\n",
       "5181    Widowed\n",
       "5182    Widowed\n",
       "5183    Married\n",
       "Name: marital_status, Length: 5184, dtype: category\n",
       "Categories (5, object): ['Cohabiting', 'Divorced/Separated', 'Married', 'Never married', 'Widowed']"
      ]
     },
     "execution_count": 26,
     "metadata": {},
     "output_type": "execute_result"
    }
   ],
   "source": [
    "# rename column for marital status and assign categorical values\n",
    "\n",
    "data.rename(columns={'headmerstatus': 'marital_status'}, inplace=True)\n",
    "\n",
    "marital_status_map = {\n",
    "    1.00: 'Married',\n",
    "    2.00: 'Never married',\n",
    "    3.00: 'Widowed',\n",
    "    4.00: 'Divorced/Separated',\n",
    "    5.00: 'Cohabiting'\n",
    "}\n",
    "\n",
    "data['marital_status'] = data['marital_status'].replace(marital_status_map)\n",
    "\n",
    "data['marital_status'] = data['marital_status'].astype('category')\n",
    "\n",
    "data['marital_status']"
   ]
  },
  {
   "cell_type": "code",
   "execution_count": 27,
   "id": "e7484211-5eda-43c4-9cd1-90de0b0c73d2",
   "metadata": {},
   "outputs": [
    {
     "name": "stdout",
     "output_type": "stream",
     "text": [
      "<class 'pandas.core.frame.DataFrame'>\n",
      "RangeIndex: 5184 entries, 0 to 5183\n",
      "Data columns (total 50 columns):\n",
      " #   Column               Non-Null Count  Dtype    \n",
      "---  ------               --------------  -----    \n",
      " 0   interview__key       5184 non-null   object   \n",
      " 1   date_q               5184 non-null   period[M]\n",
      " 2   region               5184 non-null   category \n",
      " 3   settlement           5184 non-null   category \n",
      " 4   members              5184 non-null   int64    \n",
      " 5   memnal               5184 non-null   int64    \n",
      " 6   weight               5184 non-null   float64  \n",
      " 7   food_purchase        5184 non-null   float64  \n",
      " 8   food_consumption     5184 non-null   float64  \n",
      " 9   food_out_of_home     5184 non-null   float64  \n",
      " 10  non_food_purchase    5184 non-null   float64  \n",
      " 11  non_food_gift        5184 non-null   float64  \n",
      " 12  durable_goods        5184 non-null   float64  \n",
      " 13  expenditure          5184 non-null   float64  \n",
      " 14  monetary_income      5184 non-null   float64  \n",
      " 15  total                5184 non-null   float64  \n",
      " 16  non_monetary_income  5184 non-null   float64  \n",
      " 17  members_0_3          5184 non-null   float64  \n",
      " 18  members_4_5          5184 non-null   float64  \n",
      " 19  members_6_11         5184 non-null   float64  \n",
      " 20  members_12_17        5184 non-null   float64  \n",
      " 21  members_63_65        5184 non-null   float64  \n",
      " 22  members_66_70        5184 non-null   float64  \n",
      " 23  members_71_80        5184 non-null   float64  \n",
      " 24  members_over_81      5184 non-null   float64  \n",
      " 25  members_over_63      5184 non-null   float64  \n",
      " 26  headsex              5184 non-null   category \n",
      " 27  education_level      5184 non-null   category \n",
      " 28  marital_status       5184 non-null   category \n",
      " 29  headage              5184 non-null   int64    \n",
      " 30  aec_r                5184 non-null   float64  \n",
      " 31  poverty              5184 non-null   int64    \n",
      " 32  pweight              5184 non-null   float64  \n",
      " 33  ae_r                 5184 non-null   float64  \n",
      " 34  hous_01              5184 non-null   int64    \n",
      " 35  hous_13              5184 non-null   int64    \n",
      " 36  hous_16              4933 non-null   float64  \n",
      " 37  hous_29_0__1         5184 non-null   int64    \n",
      " 38  hous_29_0__2         5184 non-null   int64    \n",
      " 39  hous_29_0__3         5184 non-null   int64    \n",
      " 40  hous_29_0__4         5184 non-null   int64    \n",
      " 41  hous_29_0__5         5184 non-null   int64    \n",
      " 42  hous_29_0__6         5184 non-null   int64    \n",
      " 43  hous_29_0__7         5184 non-null   int64    \n",
      " 44  hous_39              5184 non-null   int64    \n",
      " 45  hous_44              5184 non-null   int64    \n",
      " 46  soc_01               5184 non-null   int64    \n",
      " 47  soc_05               578 non-null    float64  \n",
      " 48  hous_47              4235 non-null   float64  \n",
      " 49  Total_Income         5184 non-null   float64  \n",
      "dtypes: category(5), float64(27), int64(16), object(1), period[M](1)\n",
      "memory usage: 1.8+ MB\n"
     ]
    }
   ],
   "source": [
    "data.info()"
   ]
  },
  {
   "cell_type": "code",
   "execution_count": 28,
   "id": "9b9fe26d-8655-4903-9bc5-d5fb44ebdab8",
   "metadata": {},
   "outputs": [],
   "source": [
    "data.rename(columns={'aec_r': 'consumption_per_person'}, inplace=True)"
   ]
  },
  {
   "cell_type": "code",
   "execution_count": 29,
   "id": "f028db47-4178-4be7-a859-eb49379b0801",
   "metadata": {},
   "outputs": [
    {
     "data": {
      "text/plain": [
       "0     Non poor\n",
       "1     Non poor\n",
       "2         Poor\n",
       "3     Non poor\n",
       "4    Very poor\n",
       "Name: poverty_status, dtype: category\n",
       "Categories (3, object): ['Non poor', 'Poor', 'Very poor']"
      ]
     },
     "execution_count": 29,
     "metadata": {},
     "output_type": "execute_result"
    }
   ],
   "source": [
    "data.rename(columns={'poverty': 'poverty_status'}, inplace=True)\n",
    "\n",
    "poverty_status_map = {\n",
    "    1.00: 'Non poor',\n",
    "    2.00: 'Poor',\n",
    "    3.00: 'Very poor'\n",
    "}\n",
    "\n",
    "data['poverty_status'] = data['poverty_status'].replace(poverty_status_map)\n",
    "\n",
    "data['poverty_status'] = data['poverty_status'].astype('category')\n",
    "\n",
    "data['poverty_status'].head()"
   ]
  },
  {
   "cell_type": "code",
   "execution_count": 30,
   "id": "01bb8876-ba49-4505-b07a-18652431bcf3",
   "metadata": {},
   "outputs": [],
   "source": [
    "data.rename(columns={'pweight': 'household_weight'}, inplace=True)"
   ]
  },
  {
   "cell_type": "code",
   "execution_count": 31,
   "id": "57d7cacd-f9c0-4b63-9147-822802af9037",
   "metadata": {},
   "outputs": [],
   "source": [
    "data.rename(columns={'ae_r': 'adult_equivalent_size'}, inplace=True)"
   ]
  },
  {
   "cell_type": "code",
   "execution_count": 32,
   "id": "ff136f77-f2fc-4f0e-a251-24cb344abdb7",
   "metadata": {},
   "outputs": [
    {
     "data": {
      "text/plain": [
       "0       Apartment\n",
       "1           House\n",
       "2           House\n",
       "3       Apartment\n",
       "4           House\n",
       "          ...    \n",
       "5179    Apartment\n",
       "5180        House\n",
       "5181    Apartment\n",
       "5182    Apartment\n",
       "5183        House\n",
       "Name: dwelling_type, Length: 5184, dtype: category\n",
       "Categories (5, object): ['Apartment', 'Hostel', 'House', 'Other', 'Railcar/container']"
      ]
     },
     "execution_count": 32,
     "metadata": {},
     "output_type": "execute_result"
    }
   ],
   "source": [
    "data['hous_01'] = data['hous_01'].replace(-999999999, np.nan)\n",
    "\n",
    "dwelling_type = {\n",
    "    1.00: 'House',\n",
    "    2.00: 'Apartment',\n",
    "    3.00: 'Hostel',\n",
    "    4.00: 'Railcar/container',\n",
    "    5.00: 'Other'\n",
    "}\n",
    "\n",
    "data['hous_01'] = data['hous_01'].replace(dwelling_type)\n",
    "\n",
    "data['hous_01'] = data['hous_01'].astype('category')\n",
    "\n",
    "data = data.rename(columns={'hous_01': 'dwelling_type'})\n",
    "\n",
    "data['dwelling_type']"
   ]
  },
  {
   "cell_type": "code",
   "execution_count": 33,
   "id": "69fdbe4c-d60a-47d9-b87e-5be3ea18ec68",
   "metadata": {},
   "outputs": [
    {
     "data": {
      "text/plain": [
       "0         Centralized water supply\n",
       "1         Centralized water supply\n",
       "2         Centralized water supply\n",
       "3         Centralized water supply\n",
       "4         Centralized water supply\n",
       "                   ...            \n",
       "5179      Centralized water supply\n",
       "5180    Own system of water supply\n",
       "5181      Centralized water supply\n",
       "5182      Centralized water supply\n",
       "5183      Centralized water supply\n",
       "Name: water_source, Length: 5184, dtype: category\n",
       "Categories (6, object): ['Bought water', 'Centralized water supply', 'Delivered water', 'Other', 'Own system of water supply', 'Spring water, well']"
      ]
     },
     "execution_count": 33,
     "metadata": {},
     "output_type": "execute_result"
    }
   ],
   "source": [
    "data['hous_13'] = data['hous_13'].replace(-999999999, np.nan)\n",
    "\n",
    "water_source_map = {\n",
    "    1.00: 'Centralized water supply',\n",
    "    2.00: 'Spring water, well',\n",
    "    3.00: 'Own system of water supply',\n",
    "    4.00: 'River, lake',\n",
    "    5.00: 'Delivered water',\n",
    "    6.00: 'Bought water',\n",
    "    7.00: 'Other'\n",
    "}\n",
    "\n",
    "data['hous_13'] = data['hous_13'].replace(water_source_map)\n",
    "\n",
    "data['hous_13'] = data['hous_13'].astype('category')\n",
    "\n",
    "data = data.rename(columns={'hous_13': 'water_source'})\n",
    "\n",
    "data['water_source']"
   ]
  },
  {
   "cell_type": "code",
   "execution_count": 34,
   "id": "ae2894d2-de12-4273-b407-f97a8a90e1f9",
   "metadata": {},
   "outputs": [
    {
     "name": "stdout",
     "output_type": "stream",
     "text": [
      "hous_16                     False  True   All\n",
      "water_source                                 \n",
      "Bought water                    0     1     1\n",
      "Centralized water supply     4932     0  4932\n",
      "Delivered water                 0    16    16\n",
      "Other                           0    23    23\n",
      "Own system of water supply      0   166   166\n",
      "Spring water, well              1    45    46\n",
      "All                          4933   251  5184\n"
     ]
    }
   ],
   "source": [
    "# to handle missing values in water_tap_location, we wanted to check whether missing values depend on water source they chose\n",
    "\n",
    "crosstab_result = pd.crosstab(data['water_source'], data['hous_16'].isnull(), margins=True)\n",
    "print(crosstab_result)"
   ]
  },
  {
   "cell_type": "markdown",
   "id": "4a814c05-1b26-4d70-8319-571b1120a525",
   "metadata": {},
   "source": [
    "False shows how many households provided their water tap location\n",
    "True shows how many didn't provide a water tap location\n",
    "\n",
    "So:\n",
    "4933 households provided a valid water_tap_location and nearly all of them (4932) are using a centralized water supply. "
   ]
  },
  {
   "cell_type": "code",
   "execution_count": null,
   "id": "163bb144-205b-49cd-aaf3-37e8355435a4",
   "metadata": {},
   "outputs": [],
   "source": [
    "data['hous_16'] = data['hous_16'].replace(-999999999, np.nan)\n",
    "\n",
    "#replace nan values with a new unknown value\n",
    "\n",
    "water_tap_location_map = {\n",
    "    1.00: 'In the dwelling',\n",
    "    2.00: 'In the yard',\n",
    "    3.00: 'In the street',\n",
    "    np.nan: 'Unknown / Not applicable'\n",
    "}\n",
    "\n",
    "data['hous_16'] = data['hous_16'].replace(water_tap_location_map)\n",
    "\n",
    "data['hous_16'] = data['hous_16'].astype('category')\n",
    "\n",
    "data = data.rename(columns={'hous_16': 'water_tap_location'})\n",
    "\n",
    "data['water_tap_location']"
   ]
  },
  {
   "cell_type": "code",
   "execution_count": null,
   "id": "fad60ed4-890d-4635-a322-e9fe8fc7ed53",
   "metadata": {},
   "outputs": [],
   "source": [
    "# create a new column 'heating_source' \n",
    "heating_source_columns = ['hous_29_0__1', 'hous_29_0__2', 'hous_29_0__3', \n",
    "                          'hous_29_0__4', 'hous_29_0__5', 'hous_29_0__6', 'hous_29_0__7']\n",
    "\n",
    "# replace the missing value with 0 in this case\n",
    "data[heating_source_columns] = data[heating_source_columns].replace(-999999999, 0)\n",
    "\n",
    "heating_sources_map = {\n",
    "    'hous_29_0__1': 'Central heating',\n",
    "    'hous_29_0__2': 'Electricity',\n",
    "    'hous_29_0__3': 'Natural gas',\n",
    "    'hous_29_0__4': 'Liquefied gas',\n",
    "    'hous_29_0__5': 'Oil and diesel',\n",
    "    'hous_29_0__6': 'Wood',\n",
    "    'hous_29_0__7': 'Coal'\n",
    "}\n",
    "\n",
    "data['heating_source'] = data[heating_source_columns].idxmax(axis=1).replace(heating_sources_map)\n",
    "\n",
    "data.drop(columns=heating_source_columns, inplace=True)\n",
    "\n",
    "data['heating_source'].head()\n"
   ]
  },
  {
   "cell_type": "code",
   "execution_count": null,
   "id": "e500bcac-72a1-43f3-9ffe-2d2d38d5b703",
   "metadata": {},
   "outputs": [],
   "source": [
    "data['hous_39'] = data['hous_39'].replace(-999999999, np.nan)\n",
    "\n",
    "garbage_disposal = {\n",
    "    1.00: 'Rubbish evacuation system',\n",
    "    2.00: 'Collected by a dust-cart',\n",
    "    3.00: 'Dumped by household members',\n",
    "    4.00: 'Burned by household members',\n",
    "    5.00: 'Buried by household members',\n",
    "    6.00: 'Other'\n",
    "}\n",
    "\n",
    "data['hous_39'] = data['hous_39'].replace(garbage_disposal)\n",
    "\n",
    "data['hous_39'] = data['hous_39'].astype('category')\n",
    "\n",
    "data = data.rename(columns={'hous_39': 'garbage_disposal'})\n",
    "\n",
    "data['garbage_disposal']"
   ]
  },
  {
   "cell_type": "code",
   "execution_count": null,
   "id": "e4e957e7-6f47-4fe4-ab1b-a30abb838c24",
   "metadata": {},
   "outputs": [],
   "source": [
    "data['hous_44'] = data['hous_44'].replace(-999999999, np.nan)\n",
    "\n",
    "housing_condition_map = {\n",
    "    1.00: 'Very good',\n",
    "    2.00: 'Good',\n",
    "    3.00: 'Satisfactory',\n",
    "    4.00: 'Bad',\n",
    "    5.00: 'Very bad'\n",
    "}\n",
    "\n",
    "data['hous_44'] = data['hous_44'].replace(housing_condition_map)\n",
    "\n",
    "data['hous_44'] = data['hous_44'].astype('category')\n",
    "\n",
    "data.rename(columns={'hous_44': 'housing_condition'}, inplace=True)\n",
    "\n",
    "data = data.rename(columns={'hous_44': 'housing_condition'})\n",
    "\n",
    "data['housing_condition'].head()"
   ]
  },
  {
   "cell_type": "code",
   "execution_count": null,
   "id": "4f475ef2-5fa0-46d1-8262-8fc0a1db8998",
   "metadata": {},
   "outputs": [],
   "source": [
    "data['soc_01'] = data['soc_01'].replace(-999999999, np.nan)\n",
    "\n",
    "\n",
    "poverty_benefit_map = {\n",
    "    1.00: 'YES',\n",
    "    2.00: 'NO'\n",
    "}\n",
    "\n",
    "data['soc_01'] = data['soc_01'].replace(poverty_benefit_map)\n",
    "\n",
    "data['soc_01'] = data['soc_01'].astype('category')\n",
    "\n",
    "data = data.rename(columns={'soc_01': 'poverty_benefit'})\n",
    "\n",
    "data['poverty_benefit']"
   ]
  },
  {
   "cell_type": "code",
   "execution_count": null,
   "id": "20292830-a9ac-4db1-b8c8-47613e49b0d3",
   "metadata": {},
   "outputs": [],
   "source": [
    "data['soc_05'] = data['soc_05'].replace(-999999999, 0)\n",
    "data['soc_05'] = data['soc_05'].fillna(0)  # convert blanks to 0 as well\n",
    "\n",
    "data['soc_05']"
   ]
  },
  {
   "cell_type": "code",
   "execution_count": null,
   "id": "ac7695b4-3d35-478e-ad08-7259c74a8f15",
   "metadata": {},
   "outputs": [],
   "source": [
    "satisfaction_map = {\n",
    "    1.00: 'yes',\n",
    "    2.00: 'no',\n",
    "    3.00: 'don\\'t know'\n",
    "}\n",
    "data['hous_47'] = data['hous_47'].replace(satisfaction_map)\n",
    "\n",
    "data['hous_47'] = data['hous_47'].replace('', np.nan)\n",
    "data['hous_47'] = data['hous_47'].fillna('don\\'t know')\n",
    "\n",
    "data['hous_47'] = data['hous_47'].astype('category')\n",
    "\n",
    "data['hous_47'].head()"
   ]
  },
  {
   "cell_type": "code",
   "execution_count": null,
   "id": "2c9699da-f90d-4b02-935e-042bda5ba074",
   "metadata": {},
   "outputs": [],
   "source": [
    "data = data.rename(columns={'soc_05': 'years_of_benefit', 'hous_47': 'health_service_satisfaction'})"
   ]
  },
  {
   "cell_type": "markdown",
   "id": "00314da4-7816-4224-ab9a-663485743d1d",
   "metadata": {},
   "source": [
    "# Before and after data cleaning and transformation "
   ]
  },
  {
   "cell_type": "code",
   "execution_count": null,
   "id": "8563712b-0db4-437c-ae2c-d28a6ef47074",
   "metadata": {},
   "outputs": [],
   "source": [
    "data.to_excel(\"cleaned_data.xlsx\", index=False)"
   ]
  },
  {
   "cell_type": "code",
   "execution_count": null,
   "id": "c5e1e34b-1d77-467a-aebb-baf3ea251f81",
   "metadata": {},
   "outputs": [],
   "source": [
    "initial_data = pd.read_excel('99543018.xlsx', sheet_name='2022')"
   ]
  },
  {
   "cell_type": "code",
   "execution_count": null,
   "id": "87b48087-aeed-4ea1-a244-c07902151d78",
   "metadata": {},
   "outputs": [],
   "source": [
    "initial_data.info()\n",
    "data.info()"
   ]
  },
  {
   "cell_type": "markdown",
   "id": "568aa702-52c1-4761-b5d2-83856bc3effc",
   "metadata": {},
   "source": [
    "## Visualization of Expenditure"
   ]
  },
  {
   "cell_type": "code",
   "execution_count": null,
   "id": "97caf85e-ee64-4919-92b1-e42fe8bb57ce",
   "metadata": {},
   "outputs": [],
   "source": [
    "#Box plot for expenditure\n",
    "plt.figure(figsize=(14,6))\n",
    "sns.boxplot(x=data['expenditure'], color = \"slateblue\")\n",
    "plt.ticklabel_format(style='plain', axis='x')\n",
    "plt.xticks(rotation=45, ha='right')\n",
    "plt.xticks(np.arange(0,3150000, step = 100000))\n",
    "plt.axvline(data['expenditure'].mean(), color = \"pink\")\n",
    "plt.xlabel('Expenditure')\n",
    "plt.show()"
   ]
  },
  {
   "cell_type": "markdown",
   "id": "abd35d95-2441-4a93-91cf-d47e257fd50e",
   "metadata": {},
   "source": [
    "The boxplot reveals a right-skewed distribution with a concentration of data points on the lower end of the scale, and a substantial number of high outliers.\n",
    "Most of the data falls between 0 and around 300,000, but a few extreme values go well beyond that, reaching over 3,000,000. These could represent a small group of individuals with much higher expenditures compared to the majority.\n",
    "The mean is higher than the median, which supports the idea that outliers are significantly impacting the average.\n",
    "This visualization helps identify that the majority of the data is clustered within a relatively smaller range, but there are extreme values that warrant further attention, possibly skewing overall statistics like the mean."
   ]
  },
  {
   "cell_type": "code",
   "execution_count": null,
   "id": "4574bffa-e634-4c2c-9adc-c180704bb583",
   "metadata": {},
   "outputs": [],
   "source": [
    "#Histogram for expenditure\n",
    "data['expenditure'].plot(kind = \"hist\", bins = 30, color = \"orange\", edgecolor = \"black\", figsize = (15,6))\n",
    "plt.xticks(np.arange(0,3150000, step = 100000))\n",
    "plt.show()"
   ]
  },
  {
   "cell_type": "markdown",
   "id": "d6275cab-2131-497a-9440-7cc775bc5c92",
   "metadata": {},
   "source": [
    "This histogram shows a right-skewed distribution of expenditure, where most values are concentrated between 0 and 300,000. \n",
    "The frequency of higher expenditure values drops sharply, indicating that only a small number of individuals have significantly higher expenditures."
   ]
  },
  {
   "cell_type": "code",
   "execution_count": null,
   "id": "cf659a28-cc4e-47f0-a65c-0057dd46e8b9",
   "metadata": {},
   "outputs": [],
   "source": [
    "#Density plot for expenditure\n",
    "data['expenditure'].plot(kind = \"density\", figsize = (14,6))\n",
    "plt.xlim(0,3)\n",
    "plt.axvline(data['expenditure'].mean(), color = \"pink\")\n",
    "plt.axvline(data['expenditure'].median(), color = \"red\")\n",
    "plt.xticks(np.arange(0,3150000, step = 100000))\n",
    "plt.show()"
   ]
  },
  {
   "cell_type": "markdown",
   "id": "1dc7c326-e135-40d8-95e8-2e3014aed870",
   "metadata": {},
   "source": [
    "This density plot shows a right-skewed distribution, where the majority of values are concentrated at the lower end, with a long tail extending towards higher values.\n",
    "The red vertical lines likely represent key statistics, indicating that the mean is higher than the median due to the presence of a few high-value outliers."
   ]
  },
  {
   "cell_type": "markdown",
   "id": "244030be-6d2f-426c-b6f8-3362a6398879",
   "metadata": {},
   "source": [
    "## Visualization of Total Income"
   ]
  },
  {
   "cell_type": "code",
   "execution_count": null,
   "id": "c50e649c-0fc8-4fd2-8081-07fe679c6816",
   "metadata": {},
   "outputs": [],
   "source": [
    "data.Total_Income.describe()"
   ]
  },
  {
   "cell_type": "code",
   "execution_count": null,
   "id": "bfbd0b9d-5091-49cf-88ff-f91d6ca77edf",
   "metadata": {},
   "outputs": [],
   "source": [
    "# Boxplot for Total Income\n",
    "\n",
    "plt.figure(figsize=(14,6))\n",
    "sns.boxplot(x=data['Total_Income'], color = \"seagreen\")\n",
    "plt.ticklabel_format(style='plain', axis='x')\n",
    "plt.xticks(rotation=45, ha='right')\n",
    "plt.xticks(np.arange(0,5700000, step = 200000))\n",
    "plt.axvline(data['Total_Income'].mean(), color = \"yellow\")\n",
    "plt.xlabel('Total Income')\n",
    "plt.show()"
   ]
  },
  {
   "cell_type": "markdown",
   "id": "f33adf7b-73a7-4fb0-872d-89fe5a6f6bdc",
   "metadata": {},
   "source": [
    "This box plot shows a highly skewed income distribution, with most of the data concentrated on the lower end (below 400,000) and a long tail of outliers extending to significantly higher income levels.\n",
    "The presence of extreme outliers indicates a few individuals with much higher incomes, skewing the distribution."
   ]
  },
  {
   "cell_type": "code",
   "execution_count": null,
   "id": "11da6f63-d493-4ec4-9a95-8c66d6e63eba",
   "metadata": {},
   "outputs": [],
   "source": [
    "# Histogram for Total Income\n",
    "data['Total_Income'].plot(kind = \"hist\", bins = 20, color = \"seagreen\", edgecolor = \"black\", figsize = (15,6))\n",
    "plt.xticks(np.arange(0,5700000, step = 200000))\n",
    "plt.show()"
   ]
  },
  {
   "cell_type": "markdown",
   "id": "cb517f06-444a-4a62-987a-39178b8e409a",
   "metadata": {},
   "source": [
    "This histogram shows a right-skewed income distribution where the majority of individuals have incomes below 400,000, with a few individuals earning much higher amounts.\n",
    "The long tail to the right indicates the presence of extreme outliers, similar to the previous boxplot."
   ]
  },
  {
   "cell_type": "code",
   "execution_count": null,
   "id": "b0df4450-e6cd-4b54-a3fd-c2d005840f59",
   "metadata": {},
   "outputs": [],
   "source": [
    "# Density plot for expenditure\n",
    "data['Total_Income'].plot(kind = \"density\", figsize = (14,6), color = \"seagreen\")\n",
    "plt.xlim(0,3)\n",
    "plt.axvline(data['Total_Income'].mean(), color = \"pink\")\n",
    "plt.axvline(data['Total_Income'].median(), color = \"red\")\n",
    "plt.xticks(np.arange(0,5700000, step = 200000))\n",
    "plt.show()"
   ]
  },
  {
   "cell_type": "markdown",
   "id": "c8fbf53a-6f25-432b-8d4d-b1925e31f3a1",
   "metadata": {},
   "source": [
    "This density plot shows a highly right-skewed distribution of income, with the majority of values concentrated below 400,000.\n",
    "The sharp decline in density as income increases reflects the presence of a few high-income outliers, pulling the tail of the distribution to the right."
   ]
  },
  {
   "cell_type": "markdown",
   "id": "6a4b3bbe-ae76-487f-8d92-5595d8cbf897",
   "metadata": {},
   "source": [
    "Descriptive Statistics"
   ]
  },
  {
   "cell_type": "code",
   "execution_count": null,
   "id": "9d34ce3f-0c2f-4ca4-8070-79379a61e1a9",
   "metadata": {},
   "outputs": [],
   "source": [
    "data.expenditure.describe()"
   ]
  },
  {
   "cell_type": "markdown",
   "id": "29328ce5-c4d9-450a-84da-9b7afa4436bd",
   "metadata": {},
   "source": [
    "# Descrptive Statistics"
   ]
  },
  {
   "cell_type": "code",
   "execution_count": null,
   "id": "6ba718d2-b3a0-4672-866b-4f56de31a8d2",
   "metadata": {},
   "outputs": [],
   "source": [
    "# Descriptive statistics for expenditure variable\n",
    "\n",
    "mean_exp = np.mean(data['expenditure'])\n",
    "max_exp = np.max(data['expenditure'])\n",
    "min_exp = np.min(data['expenditure'])\n",
    "std_exp = np.std(data['expenditure'])\n",
    "q1_exp = np.percentile(data['expenditure'],25)\n",
    "median_exp = np.median(data['expenditure'])\n",
    "q3_exp = np.percentile(data['expenditure'],75)\n",
    "range_exp = np.max(data['expenditure']) - np.min(data['expenditure'])\n",
    "var_exp = np.var(data['expenditure'])\n",
    "skewness_exp = data['expenditure'].skew()\n",
    "kurt_exp = data['expenditure'].kurt()\n",
    "\n",
    "import scipy.stats as stats\n",
    "from scipy.stats import skew\n",
    "trimmed_mean_exp = stats.trim_mean(data.expenditure, proportiontocut=0.1)\n",
    "\n",
    "expenditure_metrics = pd.DataFrame({\n",
    "    'Metric': [\n",
    "        'Mean', 'Max', 'Min', 'Standard Deviation', \n",
    "        'Q1', 'Median', 'Q3', 'Range', \n",
    "        'Variance', 'Skewness', 'Kurtosis', 'Trimmed Mean'\n",
    "    ],\n",
    "    'Value': [\n",
    "        mean_exp, max_exp, min_exp, std_exp, \n",
    "        q1_exp, median_exp, q3_exp, range_exp, \n",
    "        var_exp, skewness_exp, kurt_exp, trimmed_mean_exp\n",
    "    ]\n",
    "})\n",
    "\n",
    "expenditure_metrics"
   ]
  },
  {
   "cell_type": "markdown",
   "id": "db1c8763-fc2c-441d-84f6-c9e8c7596999",
   "metadata": {},
   "source": [
    "The average expenditure is 176,567.30 AMD, indicating a typical spending level, but the wide range from 8,815.48 AMD to 3,125,347.36 AMD highlights significant economic disparity among individuals.\n",
    "The high standard deviation of 133,326.73 AMD and a skewness of 3.97 suggest that most people spend less than the mean, with a few individuals making disproportionately high expenditures.\n",
    "Additionally, the trimmed mean of 157,414.38 AMD reveals a more moderate average when accounting for outliers, emphasizing the impact of extreme spending on the overall average."
   ]
  },
  {
   "cell_type": "code",
   "execution_count": null,
   "id": "5d4bf23a-4126-4d7b-9ebd-6134446dec16",
   "metadata": {},
   "outputs": [],
   "source": [
    "data.Total_Income.describe()"
   ]
  },
  {
   "cell_type": "code",
   "execution_count": null,
   "id": "844294bb-224f-411a-bcf2-dcb2fb7860a4",
   "metadata": {},
   "outputs": [],
   "source": [
    "# Descriptive statistics for Total Income variable \n",
    "\n",
    "mean_inc = np.mean(data['Total_Income'])\n",
    "max_inc = np.max(data['Total_Income'])\n",
    "min_inc = np.min(data['Total_Income'])\n",
    "std_inc = np.std(data['Total_Income'])\n",
    "q1_inc = np.percentile(data['Total_Income'],25)\n",
    "median_inc = np.median(data['Total_Income'])\n",
    "q3_inc = np.percentile(data['Total_Income'],75)\n",
    "range_inc = np.max(data['Total_Income']) - np.min(data['Total_Income'])\n",
    "var_inc = np.var(data['Total_Income'])\n",
    "skewness_inc = data['Total_Income'].skew()\n",
    "kurt_inc = data['Total_Income'].kurt()\n",
    "\n",
    "import scipy.stats as stats\n",
    "from scipy.stats import skew\n",
    "trimmed_mean_inc = stats.trim_mean(data.Total_Income, proportiontocut=0.1)\n",
    "\n",
    "income_metrics = pd.DataFrame({\n",
    "    'Metric': [\n",
    "        'Mean', 'Max', 'Min', 'Standard Deviation', \n",
    "        'Q1', 'Median', 'Q3', 'Range', \n",
    "        'Variance', 'Skewness', 'Kurtosis', 'Trimmed Mean'\n",
    "    ],\n",
    "    'Value': [\n",
    "        mean_inc, max_inc, min_inc, std_inc, \n",
    "        q1_inc, median_inc, q3_inc, range_inc,\n",
    "        var_inc, skewness_inc, kurt_inc, trimmed_mean_inc\n",
    "    ]\n",
    "})\n",
    "\n",
    "income_metrics"
   ]
  },
  {
   "cell_type": "markdown",
   "id": "ab680553-b875-4dfb-90b1-8e255a17732c",
   "metadata": {},
   "source": [
    "The average total income is 226,915.02 AMD, but the extremely high maximum of 5,628,000.00 AMD and the presence of a minimum income of 0.00 AMD indicate substantial income inequality within the dataset.\n",
    "A standard deviation of 230,370.14 AMD and a skewness of 8.37 further highlight that most individuals earn significantly less than the average, with a small number earning disproportionately high amounts.\n",
    "The trimmed mean of 196,323.23 AMD suggests a more representative average when accounting for outliers, reinforcing the notion that extreme incomes heavily influence the overall average."
   ]
  },
  {
   "cell_type": "markdown",
   "id": "1925701e-c5fb-4990-b9f9-ea6ff5d74b1c",
   "metadata": {},
   "source": [
    "### Comparing Expenditure and Income results "
   ]
  },
  {
   "cell_type": "markdown",
   "id": "8c13ee6f-ed36-48b6-a3ca-7cc2e0922d99",
   "metadata": {},
   "source": [
    "The analysis reveals significant disparities in both expenditure and income among individuals, with average expenditures at 176,567.30 AMD and total incomes averaging 226,915.02 AMD, yet both metrics are skewed by extreme values that indicate a small number of individuals have disproportionately high expenditures and incomes. The high standard deviations in both categories, alongside the presence of outliers, suggest the need for targeted economic policies to address the inequalities evident in spending and income distribution within the population."
   ]
  },
  {
   "cell_type": "code",
   "execution_count": null,
   "id": "973800e6-a935-49df-8d51-aa34501efc7a",
   "metadata": {},
   "outputs": [],
   "source": [
    "# Determining outliers for Total Income variable \n",
    "\n",
    "Q1 = data['expenditure'].quantile(0.25)\n",
    "Q3 = data['expenditure'].quantile(0.75)\n",
    "\n",
    "IQR = Q3 - Q1\n",
    "\n",
    "lower_limit = Q1 - 1.5 * IQR\n",
    "upper_limit = Q3 + 1.5 * IQR\n",
    "\n",
    "print(lower_limit)\n",
    "print(upper_limit)"
   ]
  },
  {
   "cell_type": "markdown",
   "id": "30c74e9e-1284-4b1a-bc33-1044e8f78a35",
   "metadata": {},
   "source": [
    "Outliers are between upper and lower limit, as lower limit = -116385.96875 and the minimum value = 0, that means we don't have outliers from the left which also we can notice from the boxplot. \n",
    "Our maximum_limit = 431876.30125, so we can consider outliers for our data number after it."
   ]
  },
  {
   "cell_type": "code",
   "execution_count": null,
   "id": "1580e696-2539-44fe-b26d-48dc92c7e099",
   "metadata": {},
   "outputs": [],
   "source": [
    "data['income_category'] = pd.cut(data['Total_Income'], \n",
    "                                 bins = [-np.inf, 100000, 200000, 300000, 400000, np.inf], \n",
    "                                 labels = ['Up to 100K AMD', '100K-200K AMD', '200K-300K AMD', '300K-400K AMD', '400K AMD and higher'], \n",
    "                                 ordered=True)"
   ]
  },
  {
   "cell_type": "code",
   "execution_count": null,
   "id": "e05904f3-3b30-4537-9cc6-d3a6d3b76ade",
   "metadata": {},
   "outputs": [],
   "source": [
    "pd.crosstab(data['region'], \n",
    "           data['income_category'], \n",
    "           values = data['expenditure'],\n",
    "           aggfunc=\"mean\").round(2)"
   ]
  },
  {
   "cell_type": "markdown",
   "id": "844e8796-dde5-4718-889c-cd708fd06fba",
   "metadata": {},
   "source": [
    "Yerevan, being the capital city, shows relatively high expenditures in each income category. The highest income group (400K AMD and higher) spends the most, with a mean expenditure of 324,688.64 AMD.\n",
    "Yerevan's expenditures also increase significantly with income, suggesting that residents may have higher living costs or more consumption opportunities compared to rural areas.\n",
    "\n",
    "Vayots Dzor shows higher expenditures in most income categories, particularly in the 400K AMD and higher group, where it ranks among the top with 308,520.38 AMD.\n",
    "Kotayk and Gegharkunik show lower expenditures in the higher income brackets, possibly indicating either lower living costs or reduced consumption patterns in those regions.\n",
    "Shirak shows relatively moderate expenditures across all income groups, with a slight upward progression. However, it's still lower in some categories compared to more urbanized areas.\n",
    "Lori stands out for its steep rise in expenditure in higher income brackets, especially in the 400K AMD and higher category, where the expenditure climbs to 304,868.80 AMD.\n",
    "Ararat has somewhat less variation across income categories compared to regions like Yerevan, with expenditures increasing but not as dramatically."
   ]
  },
  {
   "cell_type": "markdown",
   "id": "173691aa-7a79-430f-9cce-52654a47b55b",
   "metadata": {},
   "source": [
    "### One Sample t-test to check the null hypothesis that the average household expenditures in Armenia are 200000 AMD"
   ]
  },
  {
   "cell_type": "code",
   "execution_count": null,
   "id": "332e1c4d-e5f2-40e9-bde9-4ab3399afdc0",
   "metadata": {},
   "outputs": [],
   "source": [
    "stats.ttest_1samp(a=data['expenditure'], \n",
    "                  popmean=200000)"
   ]
  },
  {
   "cell_type": "markdown",
   "id": "b8c6f7d1-d5c8-4e20-b7de-898391cb8a27",
   "metadata": {},
   "source": [
    "T-statistic = -12.65\n",
    "A large absolute value of the t-statistic suggests a significant difference between the sample mean and the hypothesized mean.\n",
    "\n",
    "P-value = 3.61e-36\n",
    "This is an extremely small p-value which indicates that such a difference is highly unlikely to occur by random chance alone.\n",
    "\n",
    "Since the p-value is much smaller than any common significance level, we reject the null hypothesis that the average household expenditure in Armenia is 200,000 AMD. So, we have strong evidence to conclude that the average household expenditure in Armenia is not 200,000 AMD and it's smaller than the sample mean."
   ]
  },
  {
   "cell_type": "code",
   "execution_count": null,
   "id": "eff9fa57-eda8-486d-9e06-2ff2d027290b",
   "metadata": {},
   "outputs": [],
   "source": [
    "sigma = data['expenditure'].std()/math.sqrt(len(data['expenditure']))    # Sample stdev/sample size\n",
    "\n",
    "stats.t.interval(0.95,                      # Confidence level\n",
    "                 df = len(data['expenditure']) - 1,                 # Degrees of freedom\n",
    "                 loc = data['expenditure'].mean(),   # Sample mean\n",
    "                 scale= sigma)              # Standard dev estimate"
   ]
  },
  {
   "cell_type": "code",
   "execution_count": null,
   "id": "fb391a1e-cddd-4cbf-a941-79c2a090bdda",
   "metadata": {},
   "outputs": [],
   "source": [
    "data['expenditure'].mean().round(1)"
   ]
  },
  {
   "cell_type": "markdown",
   "id": "ead99b7d-bbe7-4e99-af0c-7a2b274aeb58",
   "metadata": {},
   "source": [
    "### Independent Sample t-test to check the equality of average expenditures in different types of settlements"
   ]
  },
  {
   "cell_type": "code",
   "execution_count": null,
   "id": "b141ada2-6455-452c-9eae-76f92ae2dec8",
   "metadata": {},
   "outputs": [],
   "source": [
    "np.unique(data[\"settlement\"])"
   ]
  },
  {
   "cell_type": "markdown",
   "id": "2cbf65fc-2d32-4c92-b0ac-959985d9fb4f",
   "metadata": {},
   "source": [
    " Interpret the t-test results:\n",
    "T-statistic: -0.2218\n",
    "The t-statistic represents the difference in the means of urban and rural expenditures in terms of standard error units. A small t-statistic (close to zero) indicates that the means of the two groups are not significantly different.\n",
    "P-value: 0.8245\n",
    "The p-value represents the probability of observing this result (or something more extreme) if the null hypothesis is true.\n",
    "In this case, the p-value of 0.8245 is much higher than common significance levels (e.g., 0.05 or 0.01). This means we do not have enough evidence to reject the null hypothesis.\n",
    "Degrees of Freedom (df): 3909.8\n",
    "This represents the degrees of freedom for the test, which depends on the sample sizes and variances of the groups."
   ]
  },
  {
   "cell_type": "code",
   "execution_count": null,
   "id": "2bf829cb-8d2f-43bf-9c37-491d1ecb9f72",
   "metadata": {},
   "outputs": [],
   "source": [
    "stats.ttest_ind(\n",
    "    a=data.loc[data[\"settlement\"] == 'URBAN', \"expenditure\"],\n",
    "    b=data.loc[data[\"settlement\"] == 'RURAL', \"expenditure\"],\n",
    "    equal_var=False\n",
    ")"
   ]
  },
  {
   "cell_type": "markdown",
   "id": "ed83143a-9177-4eeb-8b10-6fddc17b313a",
   "metadata": {},
   "source": [
    "The independent sample t-test did not find significant differences in expenditures between urban and rural households in Armenia at the 5% significance level."
   ]
  },
  {
   "cell_type": "markdown",
   "id": "8145bf85-c9b8-467f-b0bf-20f3ff776bd5",
   "metadata": {},
   "source": [
    "### Paired Sample t-test to check average expenditures and income  equality"
   ]
  },
  {
   "cell_type": "code",
   "execution_count": null,
   "id": "8a105d81-dba3-457d-9dfe-05722d0b7590",
   "metadata": {},
   "outputs": [],
   "source": [
    "stats.ttest_rel(data['expenditure'], data['Total_Income'])"
   ]
  },
  {
   "cell_type": "markdown",
   "id": "f9f16c1b-73a3-4d2a-baa4-e517844751c2",
   "metadata": {},
   "source": [
    "Since the p-value is far below 0.05, we can confidently reject the null hypothesis, concluding that the average expenditures and income for households in Armenia are not equal."
   ]
  },
  {
   "cell_type": "markdown",
   "id": "daa47f87-97ce-4cec-a71a-be62ecf549bb",
   "metadata": {},
   "source": [
    "### \"Levels of Expenditures\""
   ]
  },
  {
   "cell_type": "code",
   "execution_count": null,
   "id": "def4b987-0d8e-4c0d-80b4-75bf1cb19957",
   "metadata": {},
   "outputs": [],
   "source": [
    "data['expenditure'].describe()"
   ]
  },
  {
   "cell_type": "code",
   "execution_count": null,
   "id": "9fef6fa6-1fd6-4463-8d73-050d86a49748",
   "metadata": {},
   "outputs": [],
   "source": [
    "data['expenditure_level'] = pd.cut(\n",
    "    data['expenditure'], \n",
    "    bins=[-np.inf, 50000, 150000, 250000, 500000, np.inf], \n",
    "    labels=['Very Low: up to 50000', 'Low: 50000 to 150000', 'Medium: 150000 to 250000', 'High: 250000 to 500000', 'Very High: above 500000']\n",
    ")"
   ]
  },
  {
   "cell_type": "code",
   "execution_count": null,
   "id": "ba52a449-a00e-4240-850c-5b7d41c4b7ba",
   "metadata": {},
   "outputs": [],
   "source": [
    "counts = data['expenditure_level'].value_counts(normalize=True)"
   ]
  },
  {
   "cell_type": "code",
   "execution_count": null,
   "id": "5741f7e7-6d0c-474d-adb7-e805c42b52f0",
   "metadata": {},
   "outputs": [],
   "source": [
    "# Plot as pie chart\n",
    "counts.plot(kind='pie', autopct='%1.1f%%', figsize=(5, 8), startangle=140,\n",
    "                        colors=['lightcoral', 'lightskyblue', 'lightgreen', 'khaki', 'plum'])\n",
    "plt.title(\"Expenditure Levels Distribution\")\n",
    "plt.ylabel('')  \n",
    "plt.show()"
   ]
  },
  {
   "cell_type": "markdown",
   "id": "0a42205c-49d6-4931-87f7-45a2394b48ba",
   "metadata": {},
   "source": [
    "### Chi-square test to check the independence of \"Levels of Expenditures\" from the \"Marital Status\""
   ]
  },
  {
   "cell_type": "code",
   "execution_count": null,
   "id": "3fdb14c1-4399-4dcd-87cd-c7f46b7b5d51",
   "metadata": {},
   "outputs": [],
   "source": [
    "ct = pd.crosstab(data['expenditure_level'],data['marital_status'], normalize = True).mul(100).round(2)\n",
    "ct"
   ]
  },
  {
   "cell_type": "code",
   "execution_count": null,
   "id": "852887b8-7cfe-4e18-8f0a-f49ca005245b",
   "metadata": {},
   "outputs": [],
   "source": [
    "stats.chi2_contingency(ct)"
   ]
  },
  {
   "cell_type": "markdown",
   "id": "1fb32503-de79-4dd4-9285-5fe08355a8d4",
   "metadata": {},
   "source": [
    "We fail to reject the null hypothesis. This implies that there is no significant association between \"Levels of Expenditures\" and \"Marital Status.\""
   ]
  },
  {
   "cell_type": "markdown",
   "id": "8973adab-fe61-4ad7-a8c9-0382a79acdc3",
   "metadata": {},
   "source": [
    "### ANOVA to check the equality of means of Expenditures in different groups of the \"Marital Status\". "
   ]
  },
  {
   "cell_type": "markdown",
   "id": "4e4229d0-0869-4e5b-803d-4df5a7db03a8",
   "metadata": {},
   "source": [
    "Null Hypothesis (H₀): The mean expenditures are the same across all marital status groups.\n",
    "\n",
    "Alternative Hypothesis (H₁): At least one marital status group has a different mean expenditure."
   ]
  },
  {
   "cell_type": "code",
   "execution_count": null,
   "id": "6db5d556-162b-4938-9c82-a673f83a5f36",
   "metadata": {},
   "outputs": [],
   "source": [
    "from statsmodels.formula.api import ols\n",
    "import statsmodels.api as sm\n",
    "\n",
    "model = ols('expenditure ~ marital_status', data=data).fit()\n",
    "anova_table = sm.stats.anova_lm(model, type=1)\n",
    "\n",
    "anova_table"
   ]
  },
  {
   "cell_type": "markdown",
   "id": "bc8ed1df-1a76-4118-b138-948aaa722384",
   "metadata": {},
   "source": [
    "### Additional analysis"
   ]
  },
  {
   "cell_type": "code",
   "execution_count": null,
   "id": "ad5b827e-a1db-49f0-882a-9f09c219dff3",
   "metadata": {},
   "outputs": [],
   "source": [
    "# ANOVA to compare mean expenditures across different education levels.\n",
    "model = ols('expenditure ~ education_level', data=data).fit()\n",
    "anova_table2 = sm.stats.anova_lm(model, type=2)\n",
    "anova_table2"
   ]
  },
  {
   "cell_type": "code",
   "execution_count": null,
   "id": "fe93bdcb-eb90-4db4-b2ac-636160c65161",
   "metadata": {},
   "outputs": [],
   "source": [
    "# chi-square test on a crosstab between poverty_status and expenditure_level.\n",
    "ct = pd.crosstab(data['poverty_status'], data['expenditure_level'], normalize = True).mul(100).round(2)\n",
    "ct"
   ]
  },
  {
   "cell_type": "code",
   "execution_count": null,
   "id": "daae2149-e004-4297-9ea3-a40277a0399a",
   "metadata": {},
   "outputs": [],
   "source": [
    "stats.chi2_contingency(ct)"
   ]
  },
  {
   "cell_type": "code",
   "execution_count": null,
   "id": "09b9a614-b703-457e-9478-95e63937ec18",
   "metadata": {},
   "outputs": [],
   "source": [
    "# dependency between income_category and expenditure_level\n",
    "ct = pd.crosstab(data['income_category'], data['expenditure_level'])\n",
    "ct"
   ]
  },
  {
   "cell_type": "code",
   "execution_count": null,
   "id": "55ccc391-56f5-408f-834b-58aae2dfba4a",
   "metadata": {},
   "outputs": [],
   "source": [
    "# check whether if number of family members increases, the expenditure decreases\n",
    "\n",
    "plt.scatter(data['members'], data['expenditure'], alpha=0.5)\n",
    "plt.title(\"Expenditure based on Household size\")\n",
    "plt.xlabel(\"Household Size (Members)\")\n",
    "plt.ylabel(\"Expenditure\")\n",
    "\n",
    "plt.ticklabel_format(style='plain', axis='y')\n",
    "\n",
    "plt.show()"
   ]
  },
  {
   "cell_type": "code",
   "execution_count": null,
   "id": "c580e7f7-6910-4596-9654-b142267aa95d",
   "metadata": {},
   "outputs": [],
   "source": [
    "anova_model3 = ols('expenditure ~ education_level', data=data).fit()\n",
    "anova_table3 = sm.stats.anova_lm(anova_model3, type=2)\n",
    "\n",
    "anova_table3"
   ]
  },
  {
   "cell_type": "code",
   "execution_count": null,
   "id": "d752be62-bf9b-4ea5-828a-cd86b5dffdba",
   "metadata": {},
   "outputs": [],
   "source": [
    "plt.figure(figsize=(12, 7))\n",
    "sns.countplot(x='education_level', hue='expenditure_level', data=data)\n",
    "plt.title(\"Distribution of Expenditure Levels by Education Level\")\n",
    "plt.xlabel(\"Education Level\")\n",
    "plt.ylabel(\"Count\")\n",
    "plt.xticks(rotation=45, ha='right')\n",
    "plt.legend(title=\"Expenditure Level\")\n",
    "plt.show()"
   ]
  }
 ],
 "metadata": {
  "kernelspec": {
   "display_name": "Python 3 (ipykernel)",
   "language": "python",
   "name": "python3"
  },
  "language_info": {
   "codemirror_mode": {
    "name": "ipython",
    "version": 3
   },
   "file_extension": ".py",
   "mimetype": "text/x-python",
   "name": "python",
   "nbconvert_exporter": "python",
   "pygments_lexer": "ipython3",
   "version": "3.12.7"
  }
 },
 "nbformat": 4,
 "nbformat_minor": 5
}
